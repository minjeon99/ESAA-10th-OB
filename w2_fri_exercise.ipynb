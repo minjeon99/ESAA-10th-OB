{
  "nbformat": 4,
  "nbformat_minor": 0,
  "metadata": {
    "colab": {
      "provenance": [],
      "include_colab_link": true
    },
    "kernelspec": {
      "name": "python3",
      "display_name": "Python 3"
    },
    "language_info": {
      "name": "python"
    }
  },
  "cells": [
    {
      "cell_type": "markdown",
      "metadata": {
        "id": "view-in-github",
        "colab_type": "text"
      },
      "source": [
        "<a href=\"https://colab.research.google.com/github/minjeon99/ESAA-10th-OB/blob/Week2/w2_fri_exercise.ipynb\" target=\"_parent\"><img src=\"https://colab.research.google.com/assets/colab-badge.svg\" alt=\"Open In Colab\"/></a>"
      ]
    },
    {
      "cell_type": "markdown",
      "source": [
        "## **모델 훈련 연습 문제**\n",
        "___\n",
        "- 출처 : 핸즈온 머신러닝 Ch04 연습문제 1, 5, 9, 10\n",
        "- 개념 문제의 경우 텍스트 셀을 추가하여 정답을 적어주세요."
      ],
      "metadata": {
        "id": "zCu72vDHGMHo"
      }
    },
    {
      "cell_type": "markdown",
      "source": [
        "### **1. 수백만 개의 특성을 가진 훈련 세트에서는 어떤 선형 회귀 알고리즘을 사용할 수 있을까요?**\n",
        "___\n"
      ],
      "metadata": {
        "id": "j3g-_Dq9GiuT"
      }
    },
    {
      "cell_type": "markdown",
      "source": [
        "- 확률적 경사 하강법(SGD), 미니 배치 경사 하강법 등을 사용하면 빠르게 학습할 수 있다.\n",
        "\n",
        "(+) 정규 방정식, SVD: 특성 개수에 따라 계산 복잡도가 매우 빠르게 증가하여 사용할 수 없다."
      ],
      "metadata": {
        "id": "QU0scZkP4IOr"
      }
    },
    {
      "cell_type": "markdown",
      "source": [
        "### **2. 배치 경사 하강법을 사용하고 에포크마다 검증 오차를 그래프로 나타내봤습니다. 검증 오차가 일정하게 상승되고 있다면 어떤 일이 일어나고 있는 걸까요? 이 문제를 어떻게 해결할 수 있나요?**\n",
        "___"
      ],
      "metadata": {
        "id": "-pDjW5XcHPOt"
      }
    },
    {
      "cell_type": "markdown",
      "source": [
        "- 훈련 오차는 감소하고 있고 검증 오차보다 작다면 overfitting => 규제를 적용하거나 overfitting이 되기 전에 학습을 멈춘다.\n",
        "\n",
        "(+) 학습률이 너무 높아서 알고리즘이 발산하는 경우 - 훈련 오차도 증가하고 있다면 이 경우에 해당할 것이다."
      ],
      "metadata": {
        "id": "AmGeuIGXVkJl"
      }
    },
    {
      "cell_type": "markdown",
      "source": [
        "### **3. 릿지 회귀를 사용했을 때 훈련 오차가 검증 오차가 거의 비슷하고 둘 다 높았습니다. 이 모델에는 높은 편향이 문제인가요, 아니면 높은 분산이 문제인가요? 규제 하이퍼파라미터 $\\alpha$를 증가시켜야 할까요 아니면 줄여야 할까요?**\n",
        "___"
      ],
      "metadata": {
        "id": "nM7JbsLoy7b7"
      }
    },
    {
      "cell_type": "markdown",
      "source": [
        "- 훈련 오차와 검증 오차가 모두 높았다는 것은 모델이 underfitting이라는 것이고, 따라서 규제 α를 줄여야 한다."
      ],
      "metadata": {
        "id": "G58GXXvBVI1W"
      }
    },
    {
      "cell_type": "markdown",
      "source": [
        "### **4. 다음과 같이 사용해야 하는 이유는?**\n",
        "___\n",
        "- 평범한 선형 회귀(즉, 아무런 규제가 없는 모델) 대신 릿지 회귀\n",
        "- 릿지 회귀 대신 라쏘 회귀\n",
        "- 라쏘 회귀 대신 엘라스틱넷"
      ],
      "metadata": {
        "id": "C8tARu-ZzOGx"
      }
    },
    {
      "cell_type": "markdown",
      "source": [
        "1. 일반 선형 회귀 대신 릿지: 규제가 있는(릿지 회귀) 경우가 없는 경우보다 overfitting을 방지할 수 있으므로 일반적으로 성능이 높다.\n",
        "2. 릿지 대신 라쏘: 실제로 유의미한 특성이 몇 개만 있다고 판단될 경우, 피처 선택의 효과가 있는 Lasso를 사용한다.\n",
        "3. 라쏘 대신 엘라스틱넷: 특성 수가 훈련 샘플 수보다 많거나, 특성 몇 개가 강하게 연관된 경우 라쏘 회귀가 문제를 일으킬 수 있다. 따라서 일반적으로는 엘라스틱넷이 선호된다."
      ],
      "metadata": {
        "id": "mW8xJE3zV8OU"
      }
    },
    {
      "cell_type": "markdown",
      "source": [
        "### **추가) 조기 종료를 사용한 배치 경사 하강법으로 iris 데이터를 활용해 소프트맥스 회귀를 구현해보세요(사이킷런은 사용하지 마세요)**\n",
        "\n",
        "\n",
        "---\n",
        "\n"
      ],
      "metadata": {
        "id": "QIZpOEYJVIAV"
      }
    },
    {
      "cell_type": "markdown",
      "source": [
        "- 데이터 로드"
      ],
      "metadata": {
        "id": "2XtdC_yccRQZ"
      }
    },
    {
      "cell_type": "code",
      "source": [
        "from sklearn.datasets import load_iris\n",
        "\n",
        "iris = load_iris()\n",
        "\n",
        "X = iris['data']\n",
        "y = iris['target']"
      ],
      "metadata": {
        "id": "CHTNwTwOa1HX"
      },
      "execution_count": 45,
      "outputs": []
    },
    {
      "cell_type": "markdown",
      "source": [
        "- 편향 추가"
      ],
      "metadata": {
        "id": "8YCyPS3GekJN"
      }
    },
    {
      "cell_type": "code",
      "source": [
        "X_b = np.c_[np.ones([len(X), 1]), X]"
      ],
      "metadata": {
        "id": "wi6RajBeek49"
      },
      "execution_count": 46,
      "outputs": []
    },
    {
      "cell_type": "markdown",
      "source": [
        "- train_test_split"
      ],
      "metadata": {
        "id": "pAumy-V8cUEF"
      }
    },
    {
      "cell_type": "code",
      "source": [
        "import numpy as np"
      ],
      "metadata": {
        "id": "R4CQTaZ6cnCA"
      },
      "execution_count": 47,
      "outputs": []
    },
    {
      "cell_type": "code",
      "source": [
        "test_ratio = 0.2\n",
        "val_ratio = 0.2\n",
        "\n",
        "total_size = len(X_b)\n",
        "test_size = int(total_size * test_ratio)\n",
        "validation_size = int(total_size * val_ratio)\n",
        "train_size = total_size - test_size - validation_size\n",
        "\n",
        "rnd_idx = np.random.permutation(total_size)\n",
        "\n",
        "X_train = X_b[rnd_idx[:train_size]]\n",
        "y_train = y[rnd_idx[:train_size]]\n",
        "\n",
        "X_valid = X_b[rnd_idx[train_size:-test_size]]\n",
        "y_valid = y[rnd_idx[train_size:-test_size]]\n",
        "\n",
        "X_test = X_b[rnd_idx[-test_size:]]\n",
        "y_test = y[rnd_idx[-test_size:]]"
      ],
      "metadata": {
        "id": "TNxMs5a8cXPg"
      },
      "execution_count": 48,
      "outputs": []
    },
    {
      "cell_type": "markdown",
      "source": [
        "- target vector 만들기"
      ],
      "metadata": {
        "id": "BJULGfMCcW5X"
      }
    },
    {
      "cell_type": "code",
      "source": [
        "def to_one_hot(y):\n",
        "    n_classes = y.max() + 1\n",
        "    m = len(y)\n",
        "    Y_one_hot = np.zeros((m, n_classes))\n",
        "    Y_one_hot[np.arange(m), y] = 1\n",
        "    return Y_one_hot"
      ],
      "metadata": {
        "id": "1znua10-dFIP"
      },
      "execution_count": 49,
      "outputs": []
    },
    {
      "cell_type": "code",
      "source": [
        "Y_train_one_hot = to_one_hot(y_train)\n",
        "Y_valid_one_hot = to_one_hot(y_valid)\n",
        "Y_test_one_hot = to_one_hot(y_test)"
      ],
      "metadata": {
        "id": "NJ0OYoG8dNnQ"
      },
      "execution_count": 50,
      "outputs": []
    },
    {
      "cell_type": "markdown",
      "source": [
        "- softmax 함수"
      ],
      "metadata": {
        "id": "Eapa5DuPdPf-"
      }
    },
    {
      "cell_type": "code",
      "source": [
        "def softmax(logits):\n",
        "    exps = np.exp(logits)\n",
        "    exp_sums = np.sum(exps, axis=1, keepdims=True)\n",
        "    return exps / exp_sums"
      ],
      "metadata": {
        "id": "gLgWOpRBdQ2w"
      },
      "execution_count": 51,
      "outputs": []
    },
    {
      "cell_type": "markdown",
      "source": [
        "- 입력, 출력 개수"
      ],
      "metadata": {
        "id": "Q6UcyIg7e0sg"
      }
    },
    {
      "cell_type": "code",
      "source": [
        "n_inputs = X_train.shape[1]\n",
        "n_outputs = len(np.unique(y_train))\n",
        "print(n_inputs, n_outputs)"
      ],
      "metadata": {
        "colab": {
          "base_uri": "https://localhost:8080/"
        },
        "id": "GWPP3mGXewvz",
        "outputId": "2648c3e9-3d97-47d3-f717-bf4e9c83bceb"
      },
      "execution_count": 52,
      "outputs": [
        {
          "output_type": "stream",
          "name": "stdout",
          "text": [
            "5 3\n"
          ]
        }
      ]
    },
    {
      "cell_type": "markdown",
      "source": [
        "- 비용함수"
      ],
      "metadata": {
        "id": "DxrpvFEoe3nd"
      }
    },
    {
      "cell_type": "code",
      "source": [
        "eta = 0.01\n",
        "n_iterations = 5001\n",
        "m = len(X_train)\n",
        "epsilon = 1e-7\n",
        "\n",
        "Theta = np.random.randn(n_inputs, n_outputs)\n",
        "\n",
        "for iteration in range(n_iterations):\n",
        "    logits = X_train.dot(Theta)\n",
        "    Y_proba = softmax(logits)\n",
        "    if iteration % 500 == 0:\n",
        "        loss = -np.mean(np.sum(Y_train_one_hot * np.log(Y_proba + epsilon), axis=1))\n",
        "        print(iteration, loss)\n",
        "    error = Y_proba - Y_train_one_hot\n",
        "    gradients = 1/m * X_train.T.dot(error)\n",
        "    Theta = Theta - eta * gradients"
      ],
      "metadata": {
        "colab": {
          "base_uri": "https://localhost:8080/"
        },
        "id": "hLnlx8mne4Hk",
        "outputId": "70b62340-d11d-4b92-a4ab-19f45f206f26"
      },
      "execution_count": 53,
      "outputs": [
        {
          "output_type": "stream",
          "name": "stdout",
          "text": [
            "0 4.558126040263288\n",
            "500 0.37156427144636633\n",
            "1000 0.3073784225589143\n",
            "1500 0.2679683001146103\n",
            "2000 0.2401220460933407\n",
            "2500 0.21923904342126863\n",
            "3000 0.20295774209497708\n",
            "3500 0.18988987527611154\n",
            "4000 0.17915760784183626\n",
            "4500 0.17017723522290454\n",
            "5000 0.16254523933643153\n"
          ]
        }
      ]
    },
    {
      "cell_type": "code",
      "source": [
        "Theta"
      ],
      "metadata": {
        "colab": {
          "base_uri": "https://localhost:8080/"
        },
        "id": "PBb5Q3m2e9Jv",
        "outputId": "21b7984b-2e31-4b57-af16-1a4e66195075"
      },
      "execution_count": 54,
      "outputs": [
        {
          "output_type": "execute_result",
          "data": {
            "text/plain": [
              "array([[ 1.34639445,  1.52381893,  0.09115323],\n",
              "       [-0.02245418, -0.55753   , -2.01652052],\n",
              "       [ 1.59607572, -0.03733931, -1.39020673],\n",
              "       [-2.01404411,  1.38233994,  3.25610265],\n",
              "       [ 0.99601361, -0.95052932,  2.26545654]])"
            ]
          },
          "metadata": {},
          "execution_count": 54
        }
      ]
    },
    {
      "cell_type": "markdown",
      "source": [
        "- 검증 세트에 대한 정확도"
      ],
      "metadata": {
        "id": "oD_T1H-HfBPj"
      }
    },
    {
      "cell_type": "code",
      "source": [
        "logits = X_valid.dot(Theta)\n",
        "Y_proba = softmax(logits)\n",
        "y_predict = np.argmax(Y_proba, axis=1)\n",
        "\n",
        "accuracy_score = np.mean(y_predict == y_valid)\n",
        "accuracy_score"
      ],
      "metadata": {
        "colab": {
          "base_uri": "https://localhost:8080/"
        },
        "id": "9PDYBoFBe_1z",
        "outputId": "f6aa0867-d321-4851-bb91-d6742fb6463e"
      },
      "execution_count": 55,
      "outputs": [
        {
          "output_type": "execute_result",
          "data": {
            "text/plain": [
              "1.0"
            ]
          },
          "metadata": {},
          "execution_count": 55
        }
      ]
    },
    {
      "cell_type": "markdown",
      "source": [
        "- 규제 추가"
      ],
      "metadata": {
        "id": "VqoItu6GfOcr"
      }
    },
    {
      "cell_type": "code",
      "source": [
        "eta = 0.1\n",
        "n_iterations = 5001\n",
        "m = len(X_train)\n",
        "epsilon = 1e-7\n",
        "alpha = 0.1  # 규제 하이퍼파라미터\n",
        "\n",
        "Theta = np.random.randn(n_inputs, n_outputs)\n",
        "\n",
        "for iteration in range(n_iterations):\n",
        "    logits = X_train.dot(Theta)\n",
        "    Y_proba = softmax(logits)\n",
        "    if iteration % 500 == 0:\n",
        "        xentropy_loss = -np.mean(np.sum(Y_train_one_hot * np.log(Y_proba + epsilon), axis=1))\n",
        "        l2_loss = 1/2 * np.sum(np.square(Theta[1:]))\n",
        "        loss = xentropy_loss + alpha * l2_loss\n",
        "        print(iteration, loss)\n",
        "    error = Y_proba - Y_train_one_hot\n",
        "    gradients = 1/m * X_train.T.dot(error) + np.r_[np.zeros([1, n_outputs]), alpha * Theta[1:]]\n",
        "    Theta = Theta - eta * gradients"
      ],
      "metadata": {
        "colab": {
          "base_uri": "https://localhost:8080/"
        },
        "id": "tFTgcQh9fPEQ",
        "outputId": "d5702624-9c2d-4183-a6f3-79b9268de115"
      },
      "execution_count": 56,
      "outputs": [
        {
          "output_type": "stream",
          "name": "stdout",
          "text": [
            "0 6.993777310309954\n",
            "500 0.654628083930609\n",
            "1000 0.6219056334277727\n",
            "1500 0.5946073236621718\n",
            "2000 0.5720701999218857\n",
            "2500 0.5536619061569048\n",
            "3000 0.5387479271747189\n",
            "3500 0.5267325682149304\n",
            "4000 0.5170854864842168\n",
            "4500 0.5093526654945171\n",
            "5000 0.5031562212946477\n"
          ]
        }
      ]
    },
    {
      "cell_type": "code",
      "source": [
        "logits = X_valid.dot(Theta)\n",
        "Y_proba = softmax(logits)\n",
        "y_predict = np.argmax(Y_proba, axis=1)\n",
        "\n",
        "accuracy_score = np.mean(y_predict == y_valid)\n",
        "accuracy_score"
      ],
      "metadata": {
        "colab": {
          "base_uri": "https://localhost:8080/"
        },
        "id": "RymzoQEIfR9O",
        "outputId": "1c29b9a1-2f56-46d1-9135-173ecdd2af9e"
      },
      "execution_count": 57,
      "outputs": [
        {
          "output_type": "execute_result",
          "data": {
            "text/plain": [
              "0.9"
            ]
          },
          "metadata": {},
          "execution_count": 57
        }
      ]
    },
    {
      "cell_type": "markdown",
      "source": [
        "- 조기 종료"
      ],
      "metadata": {
        "id": "P4TdmWIWfHx7"
      }
    },
    {
      "cell_type": "code",
      "source": [
        "eta = 0.1\n",
        "n_iterations = 5001\n",
        "m = len(X_train)\n",
        "epsilon = 1e-7\n",
        "alpha = 0.1  # 규제 하이퍼파라미터\n",
        "best_loss = np.infty\n",
        "\n",
        "Theta = np.random.randn(n_inputs, n_outputs)\n",
        "\n",
        "for iteration in range(n_iterations):\n",
        "    logits = X_train.dot(Theta)\n",
        "    Y_proba = softmax(logits)\n",
        "    error = Y_proba - Y_train_one_hot\n",
        "    gradients = 1/m * X_train.T.dot(error) + np.r_[np.zeros([1, n_outputs]), alpha * Theta[1:]]\n",
        "    Theta = Theta - eta * gradients\n",
        "\n",
        "    logits = X_valid.dot(Theta)\n",
        "    Y_proba = softmax(logits)\n",
        "    xentropy_loss = -np.mean(np.sum(Y_valid_one_hot * np.log(Y_proba + epsilon), axis=1))\n",
        "    l2_loss = 1/2 * np.sum(np.square(Theta[1:]))\n",
        "    loss = xentropy_loss + alpha * l2_loss\n",
        "    if iteration % 500 == 0:\n",
        "        print(iteration, loss)\n",
        "    if loss < best_loss:\n",
        "        best_loss = loss\n",
        "    else:\n",
        "        print(iteration - 1, best_loss)\n",
        "        print(iteration, loss, \"조기 종료!\")\n",
        "        break"
      ],
      "metadata": {
        "colab": {
          "base_uri": "https://localhost:8080/"
        },
        "id": "OB0GMwStfIX7",
        "outputId": "878f8640-915b-4756-b041-379f50d7264a"
      },
      "execution_count": 59,
      "outputs": [
        {
          "output_type": "stream",
          "name": "stdout",
          "text": [
            "0 2.5756165664501056\n",
            "6 0.863203526475495\n",
            "7 0.8686823628388703 조기 종료!\n"
          ]
        }
      ]
    },
    {
      "cell_type": "code",
      "source": [
        "logits = X_valid.dot(Theta)\n",
        "Y_proba = softmax(logits)\n",
        "y_predict = np.argmax(Y_proba, axis=1)\n",
        "\n",
        "accuracy_score = np.mean(y_predict == y_valid)\n",
        "accuracy_score"
      ],
      "metadata": {
        "colab": {
          "base_uri": "https://localhost:8080/"
        },
        "id": "-z68epEpfJBM",
        "outputId": "399d9962-d585-4a9d-f9e4-1a2d2978345a"
      },
      "execution_count": 60,
      "outputs": [
        {
          "output_type": "execute_result",
          "data": {
            "text/plain": [
              "1.0"
            ]
          },
          "metadata": {},
          "execution_count": 60
        }
      ]
    },
    {
      "cell_type": "markdown",
      "source": [
        "- 테스트 세트 정확도"
      ],
      "metadata": {
        "id": "qtZ18dcgfqIb"
      }
    },
    {
      "cell_type": "code",
      "source": [
        "logits = X_test.dot(Theta)\n",
        "Y_proba = softmax(logits)\n",
        "y_predict = np.argmax(Y_proba, axis=1)\n",
        "\n",
        "accuracy_score = np.mean(y_predict == y_test)\n",
        "accuracy_score"
      ],
      "metadata": {
        "colab": {
          "base_uri": "https://localhost:8080/"
        },
        "id": "yiRte9Gmfpie",
        "outputId": "3fbded25-4133-4f0d-b279-7ae92b22be2b"
      },
      "execution_count": 62,
      "outputs": [
        {
          "output_type": "execute_result",
          "data": {
            "text/plain": [
              "0.9333333333333333"
            ]
          },
          "metadata": {},
          "execution_count": 62
        }
      ]
    }
  ]
}